{
 "cells": [
  {
   "cell_type": "code",
   "execution_count": 1,
   "id": "8b1e0c96",
   "metadata": {
    "execution": {
     "iopub.execute_input": "2022-08-23T12:09:50.516289Z",
     "iopub.status.busy": "2022-08-23T12:09:50.515722Z",
     "iopub.status.idle": "2022-08-23T12:09:52.060732Z",
     "shell.execute_reply": "2022-08-23T12:09:52.059509Z"
    },
    "papermill": {
     "duration": 1.556344,
     "end_time": "2022-08-23T12:09:52.063923",
     "exception": false,
     "start_time": "2022-08-23T12:09:50.507579",
     "status": "completed"
    },
    "tags": []
   },
   "outputs": [],
   "source": [
    "import numpy as np\n",
    "import matplotlib.pyplot as plt\n",
    "from scipy.interpolate import interp1d \n",
    "from scipy.interpolate import interp2d\n",
    "from scipy.integrate import quad\n",
    "from scipy.integrate import solve_ivp\n",
    "from scipy.integrate import odeint\n",
    "from scipy import interpolate\n",
    "from sympy import Curve, sin, cos, interpolate\n",
    "import scipy.interpolate as spi"
   ]
  },
  {
   "cell_type": "code",
   "execution_count": 2,
   "id": "462bc549",
   "metadata": {
    "execution": {
     "iopub.execute_input": "2022-08-23T12:09:52.076041Z",
     "iopub.status.busy": "2022-08-23T12:09:52.074835Z",
     "iopub.status.idle": "2022-08-23T12:09:52.086997Z",
     "shell.execute_reply": "2022-08-23T12:09:52.085758Z"
    },
    "papermill": {
     "duration": 0.021328,
     "end_time": "2022-08-23T12:09:52.090344",
     "exception": false,
     "start_time": "2022-08-23T12:09:52.069016",
     "status": "completed"
    },
    "tags": []
   },
   "outputs": [
    {
     "data": {
      "text/latex": [
       "$\\displaystyle h{\\left(x \\right)}$"
      ],
      "text/plain": [
       "h(x)"
      ]
     },
     "execution_count": 2,
     "metadata": {},
     "output_type": "execute_result"
    }
   ],
   "source": [
    "import sympy as smp\n",
    "from sympy import *\n",
    "x = smp.Symbol('x')\n",
    "h = smp.Function('h')(x)\n",
    "h"
   ]
  },
  {
   "cell_type": "code",
   "execution_count": 3,
   "id": "53092352",
   "metadata": {
    "execution": {
     "iopub.execute_input": "2022-08-23T12:09:52.102669Z",
     "iopub.status.busy": "2022-08-23T12:09:52.101804Z",
     "iopub.status.idle": "2022-08-23T12:09:52.438852Z",
     "shell.execute_reply": "2022-08-23T12:09:52.437805Z"
    },
    "papermill": {
     "duration": 0.346604,
     "end_time": "2022-08-23T12:09:52.441840",
     "exception": false,
     "start_time": "2022-08-23T12:09:52.095236",
     "status": "completed"
    },
    "tags": []
   },
   "outputs": [
    {
     "data": {
      "text/latex": [
       "$\\displaystyle \\frac{d^{2}}{d x^{2}} h{\\left(x \\right)} = 2 h{\\left(x \\right)}$"
      ],
      "text/plain": [
       "Eq(Derivative(h(x), (x, 2)), 2*h(x))"
      ]
     },
     "execution_count": 3,
     "metadata": {},
     "output_type": "execute_result"
    }
   ],
   "source": [
    "diff2_eq = Eq(h.diff(x,x),2*h)\n",
    "diff2_eq"
   ]
  },
  {
   "cell_type": "code",
   "execution_count": 4,
   "id": "7d8ec596",
   "metadata": {
    "execution": {
     "iopub.execute_input": "2022-08-23T12:09:52.453303Z",
     "iopub.status.busy": "2022-08-23T12:09:52.452870Z",
     "iopub.status.idle": "2022-08-23T12:09:52.631819Z",
     "shell.execute_reply": "2022-08-23T12:09:52.630674Z"
    },
    "papermill": {
     "duration": 0.188116,
     "end_time": "2022-08-23T12:09:52.634867",
     "exception": false,
     "start_time": "2022-08-23T12:09:52.446751",
     "status": "completed"
    },
    "tags": []
   },
   "outputs": [
    {
     "data": {
      "text/latex": [
       "$\\displaystyle h{\\left(x \\right)} = C_{1} e^{- \\sqrt{2} x} + C_{2} e^{\\sqrt{2} x}$"
      ],
      "text/plain": [
       "Eq(h(x), C1*exp(-sqrt(2)*x) + C2*exp(sqrt(2)*x))"
      ]
     },
     "execution_count": 4,
     "metadata": {},
     "output_type": "execute_result"
    }
   ],
   "source": [
    "gen_sol = dsolve(diff2_eq,h)\n",
    "gen_sol"
   ]
  },
  {
   "cell_type": "code",
   "execution_count": 5,
   "id": "b621f331",
   "metadata": {
    "execution": {
     "iopub.execute_input": "2022-08-23T12:09:52.647735Z",
     "iopub.status.busy": "2022-08-23T12:09:52.646700Z",
     "iopub.status.idle": "2022-08-23T12:09:52.658472Z",
     "shell.execute_reply": "2022-08-23T12:09:52.657239Z"
    },
    "papermill": {
     "duration": 0.020753,
     "end_time": "2022-08-23T12:09:52.661024",
     "exception": false,
     "start_time": "2022-08-23T12:09:52.640271",
     "status": "completed"
    },
    "tags": []
   },
   "outputs": [
    {
     "data": {
      "text/latex": [
       "$\\displaystyle C_{1} e^{- \\sqrt{2} x} + C_{2} e^{\\sqrt{2} x}$"
      ],
      "text/plain": [
       "C1*exp(-sqrt(2)*x) + C2*exp(sqrt(2)*x)"
      ]
     },
     "execution_count": 5,
     "metadata": {},
     "output_type": "execute_result"
    }
   ],
   "source": [
    "gen_sol.args[1]"
   ]
  },
  {
   "cell_type": "code",
   "execution_count": 6,
   "id": "afd738ad",
   "metadata": {
    "execution": {
     "iopub.execute_input": "2022-08-23T12:09:52.674165Z",
     "iopub.status.busy": "2022-08-23T12:09:52.672981Z",
     "iopub.status.idle": "2022-08-23T12:09:52.710463Z",
     "shell.execute_reply": "2022-08-23T12:09:52.709323Z"
    },
    "papermill": {
     "duration": 0.046988,
     "end_time": "2022-08-23T12:09:52.713345",
     "exception": false,
     "start_time": "2022-08-23T12:09:52.666357",
     "status": "completed"
    },
    "tags": []
   },
   "outputs": [
    {
     "data": {
      "text/plain": [
       "[Eq(C1 + C2, 0), Eq(-sqrt(2)*C1*exp(-sqrt(2)) + sqrt(2)*C2*exp(sqrt(2)), 1)]"
      ]
     },
     "execution_count": 6,
     "metadata": {},
     "output_type": "execute_result"
    }
   ],
   "source": [
    "initial_con = [smp.Eq(gen_sol.args[1].subs(x, 0), 0), smp.Eq(gen_sol.args[1].diff(x).subs(x, 1), 1)]\n",
    "initial_con"
   ]
  },
  {
   "cell_type": "code",
   "execution_count": 7,
   "id": "6a52ac68",
   "metadata": {
    "execution": {
     "iopub.execute_input": "2022-08-23T12:09:52.725923Z",
     "iopub.status.busy": "2022-08-23T12:09:52.725265Z",
     "iopub.status.idle": "2022-08-23T12:09:52.778092Z",
     "shell.execute_reply": "2022-08-23T12:09:52.776841Z"
    },
    "papermill": {
     "duration": 0.06239,
     "end_time": "2022-08-23T12:09:52.781068",
     "exception": false,
     "start_time": "2022-08-23T12:09:52.718678",
     "status": "completed"
    },
    "tags": []
   },
   "outputs": [
    {
     "data": {
      "text/plain": [
       "{C1: -sqrt(2)*exp(sqrt(2))/(2 + 2*exp(2*sqrt(2))),\n",
       " C2: sqrt(2)*exp(sqrt(2))/(2 + 2*exp(2*sqrt(2)))}"
      ]
     },
     "execution_count": 7,
     "metadata": {},
     "output_type": "execute_result"
    }
   ],
   "source": [
    "from sympy.solvers.ode.systems import dsolve_system\n",
    "initial_con_ans_1= smp.solve(initial_con)\n",
    "initial_con_ans_1"
   ]
  },
  {
   "cell_type": "code",
   "execution_count": 8,
   "id": "e4141149",
   "metadata": {
    "execution": {
     "iopub.execute_input": "2022-08-23T12:09:52.796753Z",
     "iopub.status.busy": "2022-08-23T12:09:52.795655Z",
     "iopub.status.idle": "2022-08-23T12:09:52.867401Z",
     "shell.execute_reply": "2022-08-23T12:09:52.866221Z"
    },
    "papermill": {
     "duration": 0.082908,
     "end_time": "2022-08-23T12:09:52.869987",
     "exception": false,
     "start_time": "2022-08-23T12:09:52.787079",
     "status": "completed"
    },
    "tags": []
   },
   "outputs": [
    {
     "data": {
      "text/latex": [
       "$\\displaystyle h{\\left(x \\right)} = \\frac{\\sqrt{2} e^{\\sqrt{2}} e^{\\sqrt{2} x}}{2 + 2 e^{2 \\sqrt{2}}} - \\frac{\\sqrt{2} e^{\\sqrt{2}} e^{- \\sqrt{2} x}}{2 + 2 e^{2 \\sqrt{2}}}$"
      ],
      "text/plain": [
       "Eq(h(x), sqrt(2)*exp(sqrt(2))*exp(sqrt(2)*x)/(2 + 2*exp(2*sqrt(2))) - sqrt(2)*exp(sqrt(2))*exp(-sqrt(2)*x)/(2 + 2*exp(2*sqrt(2))))"
      ]
     },
     "execution_count": 8,
     "metadata": {},
     "output_type": "execute_result"
    }
   ],
   "source": [
    "initial_con_full_ans = gen_sol.subs(initial_con_ans_1)\n",
    "initial_con_full_ans "
   ]
  },
  {
   "cell_type": "code",
   "execution_count": 9,
   "id": "73a066f5",
   "metadata": {
    "execution": {
     "iopub.execute_input": "2022-08-23T12:09:52.884131Z",
     "iopub.status.busy": "2022-08-23T12:09:52.883313Z",
     "iopub.status.idle": "2022-08-23T12:09:54.797161Z",
     "shell.execute_reply": "2022-08-23T12:09:54.795953Z"
    },
    "papermill": {
     "duration": 1.924114,
     "end_time": "2022-08-23T12:09:54.800028",
     "exception": false,
     "start_time": "2022-08-23T12:09:52.875914",
     "status": "completed"
    },
    "tags": []
   },
   "outputs": [
    {
     "data": {
      "text/latex": [
       "$\\displaystyle h{\\left(x \\right)} = \\frac{\\sqrt{2} \\left(e^{2 \\sqrt{2} x} - 1\\right) e^{- \\sqrt{2} \\left(x - 1\\right)}}{2 + 2 e^{2 \\sqrt{2}}}$"
      ],
      "text/plain": [
       "Eq(h(x), sqrt(2)*(exp(2*sqrt(2)*x) - 1)*exp(-sqrt(2)*(x - 1))/(2 + 2*exp(2*sqrt(2))))"
      ]
     },
     "execution_count": 9,
     "metadata": {},
     "output_type": "execute_result"
    }
   ],
   "source": [
    "given_scenario = smp.simplify(initial_con_full_ans)\n",
    "given_scenario "
   ]
  },
  {
   "cell_type": "markdown",
   "id": "489f4058",
   "metadata": {
    "papermill": {
     "duration": 0.005508,
     "end_time": "2022-08-23T12:09:54.811386",
     "exception": false,
     "start_time": "2022-08-23T12:09:54.805878",
     "status": "completed"
    },
    "tags": []
   },
   "source": [
    "# Numeric Solution."
   ]
  },
  {
   "cell_type": "code",
   "execution_count": 10,
   "id": "2aac7fce",
   "metadata": {
    "execution": {
     "iopub.execute_input": "2022-08-23T12:09:54.825207Z",
     "iopub.status.busy": "2022-08-23T12:09:54.824463Z",
     "iopub.status.idle": "2022-08-23T12:09:55.125864Z",
     "shell.execute_reply": "2022-08-23T12:09:55.124758Z"
    },
    "papermill": {
     "duration": 0.31187,
     "end_time": "2022-08-23T12:09:55.129022",
     "exception": false,
     "start_time": "2022-08-23T12:09:54.817152",
     "status": "completed"
    },
    "tags": []
   },
   "outputs": [
    {
     "data": {
      "image/png": "[encoded data removed]",
      "text/plain": [
       "<Figure size 432x288 with 1 Axes>"
      ]
     },
     "metadata": {
      "needs_background": "light"
     },
     "output_type": "display_data"
    },
    {
     "data": {
      "text/plain": [
       "<sympy.plotting.plot.Plot at 0x7fcdfccca310>"
      ]
     },
     "execution_count": 10,
     "metadata": {},
     "output_type": "execute_result"
    }
   ],
   "source": [
    "import matplotlib.pyplot as plt\n",
    "smp.plot(given_scenario.rhs)"
   ]
  },
  {
   "cell_type": "code",
   "execution_count": 11,
   "id": "d0d9d221",
   "metadata": {
    "execution": {
     "iopub.execute_input": "2022-08-23T12:09:55.143144Z",
     "iopub.status.busy": "2022-08-23T12:09:55.142703Z",
     "iopub.status.idle": "2022-08-23T12:09:55.332546Z",
     "shell.execute_reply": "2022-08-23T12:09:55.331263Z"
    },
    "papermill": {
     "duration": 0.199857,
     "end_time": "2022-08-23T12:09:55.335201",
     "exception": false,
     "start_time": "2022-08-23T12:09:55.135344",
     "status": "completed"
    },
    "tags": []
   },
   "outputs": [
    {
     "data": {
      "image/png": "[encoded data removed]",
      "text/plain": [
       "<Figure size 432x288 with 1 Axes>"
      ]
     },
     "metadata": {
      "needs_background": "light"
     },
     "output_type": "display_data"
    }
   ],
   "source": [
    "x = np.linspace(0,20,20)\n",
    "y =  ( np.sqrt(2)*(np.exp((2*np.sqrt(2)*x)-1))*(np.sqrt(2)*(x-1)) ) / (2+2*np.exp(2*np.sqrt(2)))\n",
    "plt.plot(x,y,'bs--')\n",
    "plt.show()"
   ]
  },
  {
   "cell_type": "markdown",
   "id": "d60718fd",
   "metadata": {
    "papermill": {
     "duration": 0.00592,
     "end_time": "2022-08-23T12:09:55.347650",
     "exception": false,
     "start_time": "2022-08-23T12:09:55.341730",
     "status": "completed"
    },
    "tags": []
   },
   "source": [
    "# Let's now focus in the domain of x = [0,1]"
   ]
  },
  {
   "cell_type": "code",
   "execution_count": 12,
   "id": "9d3385f4",
   "metadata": {
    "execution": {
     "iopub.execute_input": "2022-08-23T12:09:55.362443Z",
     "iopub.status.busy": "2022-08-23T12:09:55.361712Z",
     "iopub.status.idle": "2022-08-23T12:09:55.367149Z",
     "shell.execute_reply": "2022-08-23T12:09:55.365935Z"
    },
    "papermill": {
     "duration": 0.01542,
     "end_time": "2022-08-23T12:09:55.369445",
     "exception": false,
     "start_time": "2022-08-23T12:09:55.354025",
     "status": "completed"
    },
    "tags": []
   },
   "outputs": [],
   "source": [
    "n_points = [3,5,10,15,20,25]"
   ]
  },
  {
   "cell_type": "code",
   "execution_count": 13,
   "id": "919bb8d3",
   "metadata": {
    "execution": {
     "iopub.execute_input": "2022-08-23T12:09:55.384064Z",
     "iopub.status.busy": "2022-08-23T12:09:55.383302Z",
     "iopub.status.idle": "2022-08-23T12:09:56.449482Z",
     "shell.execute_reply": "2022-08-23T12:09:56.448115Z"
    },
    "papermill": {
     "duration": 1.077334,
     "end_time": "2022-08-23T12:09:56.452934",
     "exception": false,
     "start_time": "2022-08-23T12:09:55.375600",
     "status": "completed"
    },
    "tags": []
   },
   "outputs": [
    {
     "data": {
      "image/png": "[encoded data removed]",
      "text/plain": [
       "<Figure size 432x288 with 1 Axes>"
      ]
     },
     "metadata": {
      "needs_background": "light"
     },
     "output_type": "display_data"
    },
    {
     "data": {
      "image/png": "[encoded data removed]",
      "text/plain": [
       "<Figure size 432x288 with 1 Axes>"
      ]
     },
     "metadata": {
      "needs_background": "light"
     },
     "output_type": "display_data"
    },
    {
     "data": {
      "image/png": "[encoded data removed]",
      "text/plain": [
       "<Figure size 432x288 with 1 Axes>"
      ]
     },
     "metadata": {
      "needs_background": "light"
     },
     "output_type": "display_data"
    },
    {
     "data": {
      "image/png": "[encoded data removed]",
      "text/plain": [
       "<Figure size 432x288 with 1 Axes>"
      ]
     },
     "metadata": {
      "needs_background": "light"
     },
     "output_type": "display_data"
    },
    {
     "data": {
      "image/png": "[encoded data removed]",
      "text/plain": [
       "<Figure size 432x288 with 1 Axes>"
      ]
     },
     "metadata": {
      "needs_background": "light"
     },
     "output_type": "display_data"
    },
    {
     "data": {
      "image/png": "[encoded data removed]",
      "text/plain": [
       "<Figure size 432x288 with 1 Axes>"
      ]
     },
     "metadata": {
      "needs_background": "light"
     },
     "output_type": "display_data"
    }
   ],
   "source": [
    "for n in n_points:\n",
    "    x = np.linspace(0,1,n)\n",
    "    y =  ( np.sqrt(2)*(np.exp((2*np.sqrt(2)*x)-1))*(np.sqrt(2)*(x-1)) ) / (2+2*np.exp(2*np.sqrt(2)))\n",
    "    plt.plot(x,y,'bs--')\n",
    "    plt.show()"
   ]
  },
  {
   "cell_type": "code",
   "execution_count": 14,
   "id": "36ae36e8",
   "metadata": {
    "execution": {
     "iopub.execute_input": "2022-08-23T12:09:56.476902Z",
     "iopub.status.busy": "2022-08-23T12:09:56.475735Z",
     "iopub.status.idle": "2022-08-23T12:09:56.678506Z",
     "shell.execute_reply": "2022-08-23T12:09:56.677238Z"
    },
    "papermill": {
     "duration": 0.214817,
     "end_time": "2022-08-23T12:09:56.681267",
     "exception": false,
     "start_time": "2022-08-23T12:09:56.466450",
     "status": "completed"
    },
    "tags": []
   },
   "outputs": [
    {
     "data": {
      "image/png": "[encoded data removed]",
      "text/plain": [
       "<Figure size 432x288 with 1 Axes>"
      ]
     },
     "metadata": {
      "needs_background": "light"
     },
     "output_type": "display_data"
    }
   ],
   "source": [
    "x_new = np.linspace(0,1.1,100)\n",
    "intfunc = spi.interp1d(x,y,fill_value=\"extrapolate\")\n",
    "y_interp = intfunc(x_new)\n",
    "plt.plot(x_new,y_interp,'r', label='interp/extrap')\n",
    "plt.plot(x,y, 'b--', label='data')\n",
    "plt.legend()\n",
    "plt.show()"
   ]
  },
  {
   "cell_type": "code",
   "execution_count": null,
   "id": "0a2be02b",
   "metadata": {
    "papermill": {
     "duration": 0.007749,
     "end_time": "2022-08-23T12:09:56.698079",
     "exception": false,
     "start_time": "2022-08-23T12:09:56.690330",
     "status": "completed"
    },
    "tags": []
   },
   "outputs": [],
   "source": []
  }
 ],
 "metadata": {
  "kernelspec": {
   "display_name": "Python 3",
   "language": "python",
   "name": "python3"
  },
  "language_info": {
   "codemirror_mode": {
    "name": "ipython",
    "version": 3
   },
   "file_extension": ".py",
   "mimetype": "text/x-python",
   "name": "python",
   "nbconvert_exporter": "python",
   "pygments_lexer": "ipython3",
   "version": "3.7.12"
  },
  "papermill": {
   "default_parameters": {},
   "duration": 16.287372,
   "end_time": "2022-08-23T12:09:57.528379",
   "environment_variables": {},
   "exception": null,
   "input_path": "__notebook__.ipynb",
   "output_path": "__notebook__.ipynb",
   "parameters": {},
   "start_time": "2022-08-23T12:09:41.241007",
   "version": "2.3.4"
  }
 },
 "nbformat": 4,
 "nbformat_minor": 5
}
